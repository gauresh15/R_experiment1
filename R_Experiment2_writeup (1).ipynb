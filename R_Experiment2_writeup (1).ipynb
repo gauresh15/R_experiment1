{
  "nbformat": 4,
  "nbformat_minor": 0,
  "metadata": {
    "colab": {
      "name": "R_Experiment2_writeup.ipynb",
      "provenance": [],
      "collapsed_sections": []
    },
    "kernelspec": {
      "name": "ir",
      "display_name": "R"
    }
  },
  "cells": [
    {
      "cell_type": "markdown",
      "metadata": {
        "id": "ID8ytqkhyQUI"
      },
      "source": [
        "\n",
        "**Vectors R Programming**\n",
        "\n",
        "The simplest and most common data structure in R is the vector. Vectors come in two different flavors: atomic vectors and lists. An atomic vector contains exactly one data type, whereas a list may contain multiple data types.\n",
        "\n",
        "Atomic vectors include logical, character, integer, and complex. Logical vectors can contain the values TRUE, FALSE, and NA (for 'not available').These values are generated as the result of logical 'conditions'.\n",
        "\n",
        "Complet following couple of code cell to genearate a logical vector in variable logic_vect\n"
      ]
    },
    {
      "cell_type": "code",
      "metadata": {
        "id": "vmxkWCwVaTsu",
        "colab": {
          "base_uri": "https://localhost:8080/",
          "height": 34
        },
        "outputId": "b267dc7b-4d57-4bd0-9ebd-552336a7e833"
      },
      "source": [
        "# Create a vector num_vect with values -100, 0.55, 45, 5466\n",
        "num_vect<-c(-100,0.55,45,5466)\n",
        "num_vect"
      ],
      "execution_count": 1,
      "outputs": [
        {
          "output_type": "display_data",
          "data": {
            "text/plain": [
              "[1] -100.00    0.55   45.00 5466.00"
            ],
            "text/latex": "\\begin{enumerate*}\n\\item -100\n\\item 0.55\n\\item 45\n\\item 5466\n\\end{enumerate*}\n",
            "text/markdown": "1. -100\n2. 0.55\n3. 45\n4. 5466\n\n\n",
            "text/html": [
              "<style>\n",
              ".list-inline {list-style: none; margin:0; padding: 0}\n",
              ".list-inline>li {display: inline-block}\n",
              ".list-inline>li:not(:last-child)::after {content: \"\\00b7\"; padding: 0 .5ex}\n",
              "</style>\n",
              "<ol class=list-inline><li>-100</li><li>0.55</li><li>45</li><li>5466</li></ol>\n"
            ]
          },
          "metadata": {
            "tags": []
          }
        }
      ]
    },
    {
      "cell_type": "code",
      "metadata": {
        "id": "eB193NZhaTxX"
      },
      "source": [
        "#Now, create a variable called logic_vect that gets the result of num_vect <= 0.55, which is read as 'num_vect is less than 0.55'.\n",
        "logic_vect <- num_vect <= 0.55"
      ],
      "execution_count": 2,
      "outputs": []
    },
    {
      "cell_type": "markdown",
      "metadata": {
        "id": "Wjk_ipkRbIEQ"
      },
      "source": [
        "If you print logic_vect. you will see that is is a logical vector with 4 values. Print logic_vect in cell below to verify it "
      ]
    },
    {
      "cell_type": "code",
      "metadata": {
        "id": "daPof3CfbYJl",
        "colab": {
          "base_uri": "https://localhost:8080/",
          "height": 34
        },
        "outputId": "1bf32e41-3e19-49fc-e9c9-3e8adf221d11"
      },
      "source": [
        "#print logic_vect\n",
        "logic_vect"
      ],
      "execution_count": 3,
      "outputs": [
        {
          "output_type": "display_data",
          "data": {
            "text/plain": [
              "[1]  TRUE  TRUE FALSE FALSE"
            ],
            "text/latex": "\\begin{enumerate*}\n\\item TRUE\n\\item TRUE\n\\item FALSE\n\\item FALSE\n\\end{enumerate*}\n",
            "text/markdown": "1. TRUE\n2. TRUE\n3. FALSE\n4. FALSE\n\n\n",
            "text/html": [
              "<style>\n",
              ".list-inline {list-style: none; margin:0; padding: 0}\n",
              ".list-inline>li {display: inline-block}\n",
              ".list-inline>li:not(:last-child)::after {content: \"\\00b7\"; padding: 0 .5ex}\n",
              "</style>\n",
              "<ol class=list-inline><li>TRUE</li><li>TRUE</li><li>FALSE</li><li>FALSE</li></ol>\n"
            ]
          },
          "metadata": {
            "tags": []
          }
        }
      ]
    },
    {
      "cell_type": "code",
      "metadata": {
        "id": "ZJRGCFsRbluA",
        "colab": {
          "base_uri": "https://localhost:8080/",
          "height": 34
        },
        "outputId": "30fe89ba-1e65-41bd-b9b0-bfc4690eefd6"
      },
      "source": [
        "#Type num_vect >= 6 and note the output\n",
        "num_vect >= 6"
      ],
      "execution_count": 4,
      "outputs": [
        {
          "output_type": "display_data",
          "data": {
            "text/plain": [
              "[1] FALSE FALSE  TRUE  TRUE"
            ],
            "text/latex": "\\begin{enumerate*}\n\\item FALSE\n\\item FALSE\n\\item TRUE\n\\item TRUE\n\\end{enumerate*}\n",
            "text/markdown": "1. FALSE\n2. FALSE\n3. TRUE\n4. TRUE\n\n\n",
            "text/html": [
              "<style>\n",
              ".list-inline {list-style: none; margin:0; padding: 0}\n",
              ".list-inline>li {display: inline-block}\n",
              ".list-inline>li:not(:last-child)::after {content: \"\\00b7\"; padding: 0 .5ex}\n",
              "</style>\n",
              "<ol class=list-inline><li>FALSE</li><li>FALSE</li><li>TRUE</li><li>TRUE</li></ol>\n"
            ]
          },
          "metadata": {
            "tags": []
          }
        }
      ]
    },
    {
      "cell_type": "markdown",
      "metadata": {
        "id": "ykWXOe7kbbCH"
      },
      "source": [
        "Character vectors\n",
        "\n",
        "Character vectors are also very common in R. Double quotes are used to distinguish character objects."
      ]
    },
    {
      "cell_type": "code",
      "metadata": {
        "id": "Y5By5YrKcKLV"
      },
      "source": [
        "# Create a character vector that contains the following words: \"My\", \"name\", \"is\". \n",
        "#Remember to enclose each word in its own set of double quotes, \n",
        "#so that R knows they are character strings. Store the vector in a variable called char_vect.\n",
        "char_vect <- c(\"My\", \"name\", \"is\")"
      ],
      "execution_count": 5,
      "outputs": []
    },
    {
      "cell_type": "code",
      "metadata": {
        "id": "fCs9xH65dXqF",
        "colab": {
          "base_uri": "https://localhost:8080/",
          "height": 34
        },
        "outputId": "2c4df485-3fe6-4bbb-ac08-59975766ee6d"
      },
      "source": [
        "# print the char_vect\n",
        "char_vect"
      ],
      "execution_count": 6,
      "outputs": [
        {
          "output_type": "display_data",
          "data": {
            "text/plain": [
              "[1] \"My\"   \"name\" \"is\"  "
            ],
            "text/latex": "\\begin{enumerate*}\n\\item 'My'\n\\item 'name'\n\\item 'is'\n\\end{enumerate*}\n",
            "text/markdown": "1. 'My'\n2. 'name'\n3. 'is'\n\n\n",
            "text/html": [
              "<style>\n",
              ".list-inline {list-style: none; margin:0; padding: 0}\n",
              ".list-inline>li {display: inline-block}\n",
              ".list-inline>li:not(:last-child)::after {content: \"\\00b7\"; padding: 0 .5ex}\n",
              "</style>\n",
              "<ol class=list-inline><li>'My'</li><li>'name'</li><li>'is'</li></ol>\n"
            ]
          },
          "metadata": {
            "tags": []
          }
        }
      ]
    },
    {
      "cell_type": "code",
      "metadata": {
        "id": "wqFk1eWDdaej",
        "colab": {
          "base_uri": "https://localhost:8080/",
          "height": 34
        },
        "outputId": "bca46d26-f5a3-4538-8f4a-5c1e30c818c3"
      },
      "source": [
        "#use paste(char_vect, collapse=\" \")\n",
        "paste(char_vect,collapse=\" \")\n",
        "\n"
      ],
      "execution_count": 7,
      "outputs": [
        {
          "output_type": "display_data",
          "data": {
            "text/plain": [
              "[1] \"My name is\""
            ],
            "text/latex": "'My name is'",
            "text/markdown": "'My name is'",
            "text/html": [
              "'My name is'"
            ]
          },
          "metadata": {
            "tags": []
          }
        }
      ]
    },
    {
      "cell_type": "markdown",
      "metadata": {
        "id": "U6zErBTNdkjS"
      },
      "source": [
        "Explain What difference you see in above two code blocks\n",
        "Explaination-->\n",
        "In the first block, char_vect is a character vector with length 3. In the second block, elements of the char_vect are joined together in one continuous character string using paste() function. now in the second box char_vect is a character vector with length 1.\n",
        "\n"
      ]
    },
    {
      "cell_type": "code",
      "metadata": {
        "id": "bb8VxwW6eq4I",
        "colab": {
          "base_uri": "https://localhost:8080/",
          "height": 34
        },
        "outputId": "7cffd2c0-c96e-4344-decc-30cd766b5aff"
      },
      "source": [
        "# add your name as an element to char_vect and paste complete sentence saying \"My name is <your name>\"\n",
        "char_vect <- c(char_vect,\"Gauresh Yeole\")\n",
        "paste(char_vect, collapse = \" \")\n"
      ],
      "execution_count": 8,
      "outputs": [
        {
          "output_type": "display_data",
          "data": {
            "text/plain": [
              "[1] \"My name is Gauresh Yeole\""
            ],
            "text/latex": "'My name is Gauresh Yeole'",
            "text/markdown": "'My name is Gauresh Yeole'",
            "text/html": [
              "'My name is Gauresh Yeole'"
            ]
          },
          "metadata": {
            "tags": []
          }
        }
      ]
    },
    {
      "cell_type": "code",
      "metadata": {
        "id": "2On4I2KFffCo",
        "colab": {
          "base_uri": "https://localhost:8080/",
          "height": 34
        },
        "outputId": "9c188ec3-625f-4897-eaa0-2458299985d8"
      },
      "source": [
        "#Execute this code block\n",
        "paste(\"Hello\",\"World!\",collapse=\" \")"
      ],
      "execution_count": 9,
      "outputs": [
        {
          "output_type": "display_data",
          "data": {
            "text/plain": [
              "[1] \"Hello World!\""
            ],
            "text/latex": "'Hello World!'",
            "text/markdown": "'Hello World!'",
            "text/html": [
              "'Hello World!'"
            ]
          },
          "metadata": {
            "tags": []
          }
        }
      ]
    },
    {
      "cell_type": "markdown",
      "metadata": {
        "id": "Ix0RGNhYfk5M"
      },
      "source": [
        "Explain output of code block above.\n",
        "Explaination-->\n",
        "collapse argument with function paste explains that we can join elements of the chaarctor vector seperated by single spaces."
      ]
    },
    {
      "cell_type": "code",
      "metadata": {
        "id": "UG8NGPx4fq01",
        "colab": {
          "base_uri": "https://localhost:8080/",
          "height": 34
        },
        "outputId": "13e36eb5-cf0f-49ae-d9a9-302bfc0cb8b7"
      },
      "source": [
        "#Execute this \n",
        "paste(1:3, c(\"X\", \"Y\", \"Z\"), sep = \":\")"
      ],
      "execution_count": 10,
      "outputs": [
        {
          "output_type": "display_data",
          "data": {
            "text/plain": [
              "[1] \"1:X\" \"2:Y\" \"3:Z\""
            ],
            "text/latex": "\\begin{enumerate*}\n\\item '1:X'\n\\item '2:Y'\n\\item '3:Z'\n\\end{enumerate*}\n",
            "text/markdown": "1. '1:X'\n2. '2:Y'\n3. '3:Z'\n\n\n",
            "text/html": [
              "<style>\n",
              ".list-inline {list-style: none; margin:0; padding: 0}\n",
              ".list-inline>li {display: inline-block}\n",
              ".list-inline>li:not(:last-child)::after {content: \"\\00b7\"; padding: 0 .5ex}\n",
              "</style>\n",
              "<ol class=list-inline><li>'1:X'</li><li>'2:Y'</li><li>'3:Z'</li></ol>\n"
            ]
          },
          "metadata": {
            "tags": []
          }
        }
      ]
    },
    {
      "cell_type": "markdown",
      "metadata": {
        "id": "WZburobtgHPL"
      },
      "source": [
        "Explain output of above code block\n",
        "\n",
        "Explaination: 2 vectors, both of size 3. First has elements (1,2,3) and second (\"X\",\"Y\",\"Z\"). When paste() is used it prints elements of both with iteration. sep=\":\" seperates both values with \":\"."
      ]
    },
    {
      "cell_type": "code",
      "metadata": {
        "id": "dfigEt5CgidD",
        "colab": {
          "base_uri": "https://localhost:8080/",
          "height": 34
        },
        "outputId": "70ccd043-550c-461e-e18d-86e444a31e29"
      },
      "source": [
        "#Executes this LETTERS is \n",
        "paste(LETTERS, 1:10, sep = \"-\")"
      ],
      "execution_count": 11,
      "outputs": [
        {
          "output_type": "display_data",
          "data": {
            "text/plain": [
              " [1] \"A-1\"  \"B-2\"  \"C-3\"  \"D-4\"  \"E-5\"  \"F-6\"  \"G-7\"  \"H-8\"  \"I-9\"  \"J-10\"\n",
              "[11] \"K-1\"  \"L-2\"  \"M-3\"  \"N-4\"  \"O-5\"  \"P-6\"  \"Q-7\"  \"R-8\"  \"S-9\"  \"T-10\"\n",
              "[21] \"U-1\"  \"V-2\"  \"W-3\"  \"X-4\"  \"Y-5\"  \"Z-6\" "
            ],
            "text/latex": "\\begin{enumerate*}\n\\item 'A-1'\n\\item 'B-2'\n\\item 'C-3'\n\\item 'D-4'\n\\item 'E-5'\n\\item 'F-6'\n\\item 'G-7'\n\\item 'H-8'\n\\item 'I-9'\n\\item 'J-10'\n\\item 'K-1'\n\\item 'L-2'\n\\item 'M-3'\n\\item 'N-4'\n\\item 'O-5'\n\\item 'P-6'\n\\item 'Q-7'\n\\item 'R-8'\n\\item 'S-9'\n\\item 'T-10'\n\\item 'U-1'\n\\item 'V-2'\n\\item 'W-3'\n\\item 'X-4'\n\\item 'Y-5'\n\\item 'Z-6'\n\\end{enumerate*}\n",
            "text/markdown": "1. 'A-1'\n2. 'B-2'\n3. 'C-3'\n4. 'D-4'\n5. 'E-5'\n6. 'F-6'\n7. 'G-7'\n8. 'H-8'\n9. 'I-9'\n10. 'J-10'\n11. 'K-1'\n12. 'L-2'\n13. 'M-3'\n14. 'N-4'\n15. 'O-5'\n16. 'P-6'\n17. 'Q-7'\n18. 'R-8'\n19. 'S-9'\n20. 'T-10'\n21. 'U-1'\n22. 'V-2'\n23. 'W-3'\n24. 'X-4'\n25. 'Y-5'\n26. 'Z-6'\n\n\n",
            "text/html": [
              "<style>\n",
              ".list-inline {list-style: none; margin:0; padding: 0}\n",
              ".list-inline>li {display: inline-block}\n",
              ".list-inline>li:not(:last-child)::after {content: \"\\00b7\"; padding: 0 .5ex}\n",
              "</style>\n",
              "<ol class=list-inline><li>'A-1'</li><li>'B-2'</li><li>'C-3'</li><li>'D-4'</li><li>'E-5'</li><li>'F-6'</li><li>'G-7'</li><li>'H-8'</li><li>'I-9'</li><li>'J-10'</li><li>'K-1'</li><li>'L-2'</li><li>'M-3'</li><li>'N-4'</li><li>'O-5'</li><li>'P-6'</li><li>'Q-7'</li><li>'R-8'</li><li>'S-9'</li><li>'T-10'</li><li>'U-1'</li><li>'V-2'</li><li>'W-3'</li><li>'X-4'</li><li>'Y-5'</li><li>'Z-6'</li></ol>\n"
            ]
          },
          "metadata": {
            "tags": []
          }
        }
      ]
    },
    {
      "cell_type": "markdown",
      "metadata": {
        "id": "zi6nXmiZp1Li"
      },
      "source": [
        "Explain output of above code block\n",
        "\n",
        "Explaination: here, charactor vector LETTERS is longer than numeric vector 1:10. so R simply repeats the 1:10 until it matches length of the charactor vector."
      ]
    },
    {
      "cell_type": "markdown",
      "metadata": {
        "id": "oaWD-k-4qNOV"
      },
      "source": [
        "**Write R code to Solve Following**\n",
        "1.   To begin with create a vecor **a** of 20 random values from Std Normal Variable.\n",
        "2.   Creat another vector **b** of 20 NA values. Also create vector x\n",
        "3.   Sample 20 values from above two vectors. \n",
        "4.   Subset  10th to 15th element from x to generate sample y\n",
        "5.   Count NAs in vector x and y         "
      ]
    },
    {
      "cell_type": "code",
      "metadata": {
        "id": "J9aLdcrCM4T_",
        "outputId": "701601d5-04c4-48eb-bc95-5da19177f14d",
        "colab": {
          "base_uri": "https://localhost:8080/",
          "height": 68
        }
      },
      "source": [
        "\n",
        "a <- rnorm(20)\n",
        "a"
      ],
      "execution_count": 12,
      "outputs": [
        {
          "output_type": "display_data",
          "data": {
            "text/plain": [
              " [1] -0.37237895 -0.58541418 -0.97331474  1.60687141 -0.51794590  1.47164868\n",
              " [7] -0.95070167  0.84168682 -1.40820486  0.18277267  0.15773654  1.86745679\n",
              "[13] -0.70656033  0.46114516  0.89156757  0.08538646  0.73358931 -0.66159058\n",
              "[19] -0.56385327  0.09346868"
            ],
            "text/latex": "\\begin{enumerate*}\n\\item -0.372378946817362\n\\item -0.585414177308667\n\\item -0.973314744593852\n\\item 1.60687141223953\n\\item -0.517945902608678\n\\item 1.47164867854443\n\\item -0.95070167209516\n\\item 0.841686820150258\n\\item -1.40820486024826\n\\item 0.182772668489205\n\\item 0.157736538704705\n\\item 1.86745678685155\n\\item -0.706560329940912\n\\item 0.461145159751861\n\\item 0.891567572938641\n\\item 0.0853864609527221\n\\item 0.733589311136154\n\\item -0.661590581315884\n\\item -0.56385326640612\n\\item 0.0934686750748302\n\\end{enumerate*}\n",
            "text/markdown": "1. -0.372378946817362\n2. -0.585414177308667\n3. -0.973314744593852\n4. 1.60687141223953\n5. -0.517945902608678\n6. 1.47164867854443\n7. -0.95070167209516\n8. 0.841686820150258\n9. -1.40820486024826\n10. 0.182772668489205\n11. 0.157736538704705\n12. 1.86745678685155\n13. -0.706560329940912\n14. 0.461145159751861\n15. 0.891567572938641\n16. 0.0853864609527221\n17. 0.733589311136154\n18. -0.661590581315884\n19. -0.56385326640612\n20. 0.0934686750748302\n\n\n",
            "text/html": [
              "<style>\n",
              ".list-inline {list-style: none; margin:0; padding: 0}\n",
              ".list-inline>li {display: inline-block}\n",
              ".list-inline>li:not(:last-child)::after {content: \"\\00b7\"; padding: 0 .5ex}\n",
              "</style>\n",
              "<ol class=list-inline><li>-0.372378946817362</li><li>-0.585414177308667</li><li>-0.973314744593852</li><li>1.60687141223953</li><li>-0.517945902608678</li><li>1.47164867854443</li><li>-0.95070167209516</li><li>0.841686820150258</li><li>-1.40820486024826</li><li>0.182772668489205</li><li>0.157736538704705</li><li>1.86745678685155</li><li>-0.706560329940912</li><li>0.461145159751861</li><li>0.891567572938641</li><li>0.0853864609527221</li><li>0.733589311136154</li><li>-0.661590581315884</li><li>-0.56385326640612</li><li>0.0934686750748302</li></ol>\n"
            ]
          },
          "metadata": {
            "tags": []
          }
        }
      ]
    },
    {
      "cell_type": "code",
      "metadata": {
        "id": "ZetnLz1iM4f-",
        "outputId": "87e8a790-78b7-4fa3-cc7f-8f520979350f",
        "colab": {
          "base_uri": "https://localhost:8080/",
          "height": 34
        }
      },
      "source": [
        "b <- rep(NA, 20)\n",
        " b"
      ],
      "execution_count": 13,
      "outputs": [
        {
          "output_type": "display_data",
          "data": {
            "text/plain": [
              " [1] NA NA NA NA NA NA NA NA NA NA NA NA NA NA NA NA NA NA NA NA"
            ],
            "text/latex": "\\begin{enumerate*}\n\\item <NA>\n\\item <NA>\n\\item <NA>\n\\item <NA>\n\\item <NA>\n\\item <NA>\n\\item <NA>\n\\item <NA>\n\\item <NA>\n\\item <NA>\n\\item <NA>\n\\item <NA>\n\\item <NA>\n\\item <NA>\n\\item <NA>\n\\item <NA>\n\\item <NA>\n\\item <NA>\n\\item <NA>\n\\item <NA>\n\\end{enumerate*}\n",
            "text/markdown": "1. &lt;NA&gt;\n2. &lt;NA&gt;\n3. &lt;NA&gt;\n4. &lt;NA&gt;\n5. &lt;NA&gt;\n6. &lt;NA&gt;\n7. &lt;NA&gt;\n8. &lt;NA&gt;\n9. &lt;NA&gt;\n10. &lt;NA&gt;\n11. &lt;NA&gt;\n12. &lt;NA&gt;\n13. &lt;NA&gt;\n14. &lt;NA&gt;\n15. &lt;NA&gt;\n16. &lt;NA&gt;\n17. &lt;NA&gt;\n18. &lt;NA&gt;\n19. &lt;NA&gt;\n20. &lt;NA&gt;\n\n\n",
            "text/html": [
              "<style>\n",
              ".list-inline {list-style: none; margin:0; padding: 0}\n",
              ".list-inline>li {display: inline-block}\n",
              ".list-inline>li:not(:last-child)::after {content: \"\\00b7\"; padding: 0 .5ex}\n",
              "</style>\n",
              "<ol class=list-inline><li>&lt;NA&gt;</li><li>&lt;NA&gt;</li><li>&lt;NA&gt;</li><li>&lt;NA&gt;</li><li>&lt;NA&gt;</li><li>&lt;NA&gt;</li><li>&lt;NA&gt;</li><li>&lt;NA&gt;</li><li>&lt;NA&gt;</li><li>&lt;NA&gt;</li><li>&lt;NA&gt;</li><li>&lt;NA&gt;</li><li>&lt;NA&gt;</li><li>&lt;NA&gt;</li><li>&lt;NA&gt;</li><li>&lt;NA&gt;</li><li>&lt;NA&gt;</li><li>&lt;NA&gt;</li><li>&lt;NA&gt;</li><li>&lt;NA&gt;</li></ol>\n"
            ]
          },
          "metadata": {
            "tags": []
          }
        }
      ]
    },
    {
      "cell_type": "code",
      "metadata": {
        "id": "ZMlxvXogM4jQ",
        "outputId": "9ae92383-796f-42fd-aded-6d4f5f3c9a74",
        "colab": {
          "base_uri": "https://localhost:8080/",
          "height": 51
        }
      },
      "source": [
        "x <- c(a,b)\n",
        "\n",
        "x <- sample(x, 20 , replace= FALSE)\n",
        "x"
      ],
      "execution_count": 14,
      "outputs": [
        {
          "output_type": "display_data",
          "data": {
            "text/plain": [
              " [1]  0.73358931          NA  1.47164868  0.15773654 -0.95070167          NA\n",
              " [7]  0.89156757          NA          NA          NA          NA          NA\n",
              "[13]          NA  0.18277267  0.08538646  0.09346868          NA -1.40820486\n",
              "[19]          NA  0.46114516"
            ],
            "text/latex": "\\begin{enumerate*}\n\\item 0.733589311136154\n\\item <NA>\n\\item 1.47164867854443\n\\item 0.157736538704705\n\\item -0.95070167209516\n\\item <NA>\n\\item 0.891567572938641\n\\item <NA>\n\\item <NA>\n\\item <NA>\n\\item <NA>\n\\item <NA>\n\\item <NA>\n\\item 0.182772668489205\n\\item 0.0853864609527221\n\\item 0.0934686750748302\n\\item <NA>\n\\item -1.40820486024826\n\\item <NA>\n\\item 0.461145159751861\n\\end{enumerate*}\n",
            "text/markdown": "1. 0.733589311136154\n2. &lt;NA&gt;\n3. 1.47164867854443\n4. 0.157736538704705\n5. -0.95070167209516\n6. &lt;NA&gt;\n7. 0.891567572938641\n8. &lt;NA&gt;\n9. &lt;NA&gt;\n10. &lt;NA&gt;\n11. &lt;NA&gt;\n12. &lt;NA&gt;\n13. &lt;NA&gt;\n14. 0.182772668489205\n15. 0.0853864609527221\n16. 0.0934686750748302\n17. &lt;NA&gt;\n18. -1.40820486024826\n19. &lt;NA&gt;\n20. 0.461145159751861\n\n\n",
            "text/html": [
              "<style>\n",
              ".list-inline {list-style: none; margin:0; padding: 0}\n",
              ".list-inline>li {display: inline-block}\n",
              ".list-inline>li:not(:last-child)::after {content: \"\\00b7\"; padding: 0 .5ex}\n",
              "</style>\n",
              "<ol class=list-inline><li>0.733589311136154</li><li>&lt;NA&gt;</li><li>1.47164867854443</li><li>0.157736538704705</li><li>-0.95070167209516</li><li>&lt;NA&gt;</li><li>0.891567572938641</li><li>&lt;NA&gt;</li><li>&lt;NA&gt;</li><li>&lt;NA&gt;</li><li>&lt;NA&gt;</li><li>&lt;NA&gt;</li><li>&lt;NA&gt;</li><li>0.182772668489205</li><li>0.0853864609527221</li><li>0.0934686750748302</li><li>&lt;NA&gt;</li><li>-1.40820486024826</li><li>&lt;NA&gt;</li><li>0.461145159751861</li></ol>\n"
            ]
          },
          "metadata": {
            "tags": []
          }
        }
      ]
    },
    {
      "cell_type": "code",
      "metadata": {
        "id": "-0E67z2YM4m0",
        "outputId": "18ef9ec6-6c2b-42d9-9984-d891aa5fc396",
        "colab": {
          "base_uri": "https://localhost:8080/",
          "height": 34
        }
      },
      "source": [
        "\n",
        "y <- x[10:15]\n",
        "y"
      ],
      "execution_count": 15,
      "outputs": [
        {
          "output_type": "display_data",
          "data": {
            "text/plain": [
              "[1]         NA         NA         NA         NA 0.18277267 0.08538646"
            ],
            "text/latex": "\\begin{enumerate*}\n\\item <NA>\n\\item <NA>\n\\item <NA>\n\\item <NA>\n\\item 0.182772668489205\n\\item 0.0853864609527221\n\\end{enumerate*}\n",
            "text/markdown": "1. &lt;NA&gt;\n2. &lt;NA&gt;\n3. &lt;NA&gt;\n4. &lt;NA&gt;\n5. 0.182772668489205\n6. 0.0853864609527221\n\n\n",
            "text/html": [
              "<style>\n",
              ".list-inline {list-style: none; margin:0; padding: 0}\n",
              ".list-inline>li {display: inline-block}\n",
              ".list-inline>li:not(:last-child)::after {content: \"\\00b7\"; padding: 0 .5ex}\n",
              "</style>\n",
              "<ol class=list-inline><li>&lt;NA&gt;</li><li>&lt;NA&gt;</li><li>&lt;NA&gt;</li><li>&lt;NA&gt;</li><li>0.182772668489205</li><li>0.0853864609527221</li></ol>\n"
            ]
          },
          "metadata": {
            "tags": []
          }
        }
      ]
    },
    {
      "cell_type": "code",
      "metadata": {
        "id": "eJFN-RybNnue",
        "outputId": "9990a075-d721-4e60-9e16-0bf37a287cd4",
        "colab": {
          "base_uri": "https://localhost:8080/",
          "height": 51
        }
      },
      "source": [
        "\n",
        "sum(is.na(x))\n",
        "sum(is.na(y))"
      ],
      "execution_count": 16,
      "outputs": [
        {
          "output_type": "display_data",
          "data": {
            "text/plain": [
              "[1] 10"
            ],
            "text/latex": "10",
            "text/markdown": "10",
            "text/html": [
              "10"
            ]
          },
          "metadata": {
            "tags": []
          }
        },
        {
          "output_type": "display_data",
          "data": {
            "text/plain": [
              "[1] 4"
            ],
            "text/latex": "4",
            "text/markdown": "4",
            "text/html": [
              "4"
            ]
          },
          "metadata": {
            "tags": []
          }
        }
      ]
    }
  ]
}